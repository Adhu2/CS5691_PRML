{
 "cells": [
  {
   "cell_type": "markdown",
   "id": "b6e9fdd1",
   "metadata": {},
   "source": [
    "# #PRML ASSIGNMENT 2 SOLUTIONS"
   ]
  },
  {
   "cell_type": "markdown",
   "id": "75002f99",
   "metadata": {},
   "source": [
    "# Q1.(1)"
   ]
  },
  {
   "cell_type": "code",
   "execution_count": 19,
   "id": "37646438",
   "metadata": {},
   "outputs": [],
   "source": [
    "import matplotlib.pyplot as plt\n",
    "import csv\n",
    "import pandas as pd #To read input csv file\n",
    "import numpy as np\n",
    "import random\n",
    "import math"
   ]
  },
  {
   "cell_type": "markdown",
   "id": "312b509c",
   "metadata": {},
   "source": [
    "1.iii. Run the K-means algorithm with K = 4 on the same data. Plot the objective of\n",
    "K − means as a function of iterations"
   ]
  },
  {
   "cell_type": "code",
   "execution_count": 34,
   "id": "169e7588",
   "metadata": {},
   "outputs": [
    {
     "ename": "IndexError",
     "evalue": "list index out of range",
     "output_type": "error",
     "traceback": [
      "\u001b[1;31m---------------------------------------------------------------------------\u001b[0m",
      "\u001b[1;31mIndexError\u001b[0m                                Traceback (most recent call last)",
      "Input \u001b[1;32mIn [34]\u001b[0m, in \u001b[0;36m<cell line: 33>\u001b[1;34m()\u001b[0m\n\u001b[0;32m     58\u001b[0m \u001b[38;5;28;01mfor\u001b[39;00m i \u001b[38;5;129;01min\u001b[39;00m \u001b[38;5;28mrange\u001b[39m(\u001b[38;5;28mlen\u001b[39m(bins)):\n\u001b[0;32m     59\u001b[0m     \u001b[38;5;28;01mfor\u001b[39;00m j \u001b[38;5;129;01min\u001b[39;00m \u001b[38;5;28mrange\u001b[39m (\u001b[38;5;241m50\u001b[39m):\n\u001b[1;32m---> 60\u001b[0m         newCentroid\u001b[38;5;241m.\u001b[39mappend(np\u001b[38;5;241m.\u001b[39mmean(\u001b[43mbins\u001b[49m\u001b[43m[\u001b[49m\u001b[43mi\u001b[49m\u001b[43m]\u001b[49m\u001b[43m[\u001b[49m\u001b[43mj\u001b[49m\u001b[43m]\u001b[49m))\n\u001b[0;32m     61\u001b[0m         \u001b[38;5;66;03m#print (newCentroid)\u001b[39;00m\n\u001b[0;32m     63\u001b[0m k\u001b[38;5;241m=\u001b[39m\u001b[38;5;241m0\u001b[39m\n",
      "\u001b[1;31mIndexError\u001b[0m: list index out of range"
     ]
    }
   ],
   "source": [
    "#Problem in updating centroid--50 dim \n",
    "\n",
    "#Reading input from .csv file\n",
    "inputData=pd.read_csv('A2Q1.csv',header=None) #Relative Pathname--Input must be at same folder as code;\n",
    "                                                 #header-Otherwise first row is considered as header\n",
    "npInputData=np.array(inputData).astype(float) \n",
    "\n",
    "#print(npInputData.shape)\n",
    "\n",
    "K = 4 #Required 4 clusters\n",
    "\n",
    "#Method to calc distance between 2 datapoints\n",
    "def distance(p1 , p2 ):\n",
    "    sum=0\n",
    "    #print (p2)\n",
    "    #print(\"Done\")\n",
    "    for i in range(50):#as 50 features for each datapoint\n",
    "        sum = sum + (p1[i]-p2[i])*(p1[i]-p2[i]) ;\n",
    "    sum = math.sqrt(sum);\n",
    "    return sum;\n",
    "\n",
    "\n",
    "objectiveKmeans = [] #Error difference of current iteration wrt next iteration-objectiveKmeans\n",
    "\n",
    "#initialize 'K' centroids uniformly at random first\n",
    "centroidIndex=random.sample(range(0, len(npInputData)), K)\n",
    "currentCentroid = [npInputData[i] for i in centroidIndex] #currentCentroids- First initialize randomly.\n",
    "\n",
    "#print(currentCentroid)\n",
    "\n",
    "\n",
    "#Repeat until convergence-- Here simply considered 100 times\n",
    "for i in range(100):\n",
    "    nextCentroidAssignment = []\n",
    "    #Assign each datapoint to cluster with nearest mean\n",
    "    for j in npInputData:\n",
    "        distanceToEachCentroid = [] #To hold for current point j, its distance with all centroids of this iteration\n",
    "        for k in range(len(currentCentroid)):\n",
    "            d=distance( j ,currentCentroid[k])\n",
    "            distanceToEachCentroid.append(d)\n",
    "        nextCentroidAssignment.append(np.argmin(np.array(distanceToEachCentroid))) #Min dist centroid's cluster is cluster for point in next iteration\n",
    "        #print(\"Test\")\n",
    "        \n",
    "    #Calculate error in current assignment\n",
    "    for k in range(len(npInputData)):\n",
    "        error = 0\n",
    "        error = error + distance(npInputData[i], currentCentroid[nextCentroidAssignment[i]])\n",
    "        objectiveKmeans.append(error)\n",
    "        #print(error)\n",
    "        \n",
    "    #Calculate the new centroids based on current assignment\n",
    "    \n",
    "    #First distribute points to their respective bins, then calculate mean of bin\n",
    "    bins = [[] for i in range(K)] #K=4 bins to hold datapoints in their cluster\n",
    "    newCentroid = []\n",
    "    for i in range(len(npInputData)):\n",
    "        bins[nextCentroidAssignment[i]].append(npInputData[i])\n",
    "    for i in range(len(bins)):\n",
    "        for j in range (50):\n",
    "            newCentroid.append(np.mean(bins[i][j]))\n",
    "            #print (newCentroid)\n",
    "            \n",
    "    k=0\n",
    "    for i in range(4):\n",
    "        for j in range (50):            \n",
    "            currentCentroid[i][j] = newCentroid[k]\n",
    "            k=k+1\n",
    "\n",
    "plt.plot([i for i in range(100)], objectiveKmeans)\n",
    "plt.xlabel('iteration')\n",
    "plt.ylabel('objective of K means')\n",
    "    "
   ]
  },
  {
   "cell_type": "code",
   "execution_count": null,
   "id": "e1d9178c",
   "metadata": {},
   "outputs": [],
   "source": []
  },
  {
   "cell_type": "markdown",
   "id": "873c1e23",
   "metadata": {},
   "source": [
    "Q2.ii)Assume that the same data was infact generated from a mixture of Gaussians\n",
    "with 4 mixtures. Implement the EM algorithm and plot the log-likelihood (averaged over 100 random initializations of the parameters) as a function of iterations.\n",
    "How does the plot compare with the plot from part (i)? Provide insights that\n",
    "you draw from this experiment."
   ]
  },
  {
   "cell_type": "code",
   "execution_count": null,
   "id": "718d4dab",
   "metadata": {},
   "outputs": [],
   "source": []
  },
  {
   "cell_type": "code",
   "execution_count": null,
   "id": "12905bf1",
   "metadata": {},
   "outputs": [],
   "source": []
  },
  {
   "cell_type": "markdown",
   "id": "9912efa0",
   "metadata": {},
   "source": [
    "## Q2"
   ]
  },
  {
   "cell_type": "code",
   "execution_count": null,
   "id": "779c92cb",
   "metadata": {},
   "outputs": [],
   "source": []
  },
  {
   "cell_type": "markdown",
   "id": "24083db5",
   "metadata": {},
   "source": [
    "Q2.ii)"
   ]
  },
  {
   "cell_type": "code",
   "execution_count": 34,
   "id": "abea9f91",
   "metadata": {
    "scrolled": true
   },
   "outputs": [
    {
     "data": {
      "text/plain": [
       "[<matplotlib.lines.Line2D at 0x1516b944be0>]"
      ]
     },
     "execution_count": 34,
     "metadata": {},
     "output_type": "execute_result"
    },
    {
     "data": {
      "image/png": "[encoded data removed]",
      "text/plain": [
       "<Figure size 432x288 with 1 Axes>"
      ]
     },
     "metadata": {
      "needs_background": "light"
     },
     "output_type": "display_data"
    }
   ],
   "source": [
    "# References:https://towardsdatascience.com/analytical-solution-of-linear-regression-a0e870b038d5\n",
    "#https://ocw.tudelft.nl/course-lectures/least-squares-analytical-solution/\n",
    "#Q1.https://math.stackexchange.com/questions/2141922/em-algorithm-for-exponential-random-variables\n",
    "#https://stats.stackexchange.com/questions/557302/how-can-i-derive-the-em-algorithm-for-a-mixture-of-two-bernoulli-distributions\n",
    "#http://statisticalrecipes.blogspot.com/2012/04/applying-em-algorithm-binomial-mixtures.html\n",
    "\n",
    "\n",
    "\n",
    "\n",
    "#Read training data from csv file\n",
    "\n",
    "features = []\n",
    "y = []\n",
    "with open(\"A2Q2Data_train.csv\", 'r') as file:\n",
    "    inputData_train = csv.reader(file)\n",
    "    for row in inputData_train:\n",
    "        features.append([float(i) for i in row[:len(row)-1]]) #100cols of a row are feature values\n",
    "        y.append(float(row[-1])) #Last element of the row is y\n",
    "X = np.array(features)\n",
    "Y = np.array(y)\n",
    "X = X.T #d*n matrix, each column- specific datapoint\n",
    "\n",
    "covarienceMat = np.matmul(X, X.T)\n",
    "\n",
    "covInv = np.linalg.inv(covarienceMat)\n",
    "XY = np.matmul(X, Y)\n",
    "weights = np.matmul(covInv, XY)\n",
    "randomWeights = np.zeros(100)\n",
    "\n",
    "stepSize = 0.001\n",
    "n=len(y)\n",
    "norms = []\n",
    "stepNo = []\n",
    "i = 1\n",
    "\n",
    "for x in range(100):\n",
    "    exp1 =  (1/ n) * np.matmul(covarienceMat, randomWeights)\n",
    "    exp2 =  (1 / n) * XY\n",
    "\n",
    "    randomWeights = randomWeights - (stepSize * 2 * (exp1 - exp2))\n",
    "    diff = randomWeights - weights\n",
    "    norm_weights = np.linalg.norm(diff)\n",
    "\n",
    "    norms.append(norm_weights)\n",
    "    stepNo.append(i)\n",
    "    i = i + 1\n",
    "    \n",
    "plt.xlabel('t')\n",
    "plt.ylabel('||W - W_ml||2')\n",
    "plt.plot(stepNo, norms)\n"
   ]
  },
  {
   "cell_type": "markdown",
   "id": "3ec86912",
   "metadata": {},
   "source": [
    "Q2.iii)\n",
    "Ans: Here at each step, sample bunch of data points uniformly at random and pretend this sample is entire dataset."
   ]
  },
  {
   "cell_type": "code",
   "execution_count": 36,
   "id": "0ed5eb2d",
   "metadata": {},
   "outputs": [
    {
     "data": {
      "text/plain": [
       "[<matplotlib.lines.Line2D at 0x1516ba04100>]"
      ]
     },
     "execution_count": 36,
     "metadata": {},
     "output_type": "execute_result"
    },
    {
     "data": {
      "image/png": "[encoded data removed]",
      "text/plain": [
       "<Figure size 432x288 with 1 Axes>"
      ]
     },
     "metadata": {
      "needs_background": "light"
     },
     "output_type": "display_data"
    }
   ],
   "source": [
    "import random\n",
    "randomWeights2 = np.zeros(100)\n",
    "stepSize2 = 0.001\n",
    "norms2 = []\n",
    "stepNo2 = []\n",
    "i = 1\n",
    "\n",
    "\n",
    "\n",
    "for j in range(100):\n",
    "    randomIndex = random.sample(range(0, 9999), 100)\n",
    "    npRandomIndex = np.array(randomIndex)\n",
    "    Xsampled = X[:, npRandomIndex]\n",
    "    Ysampled = Y[npRandomIndex]\n",
    "    n2=len(Ysampled)\n",
    "    \n",
    "    covarienceMat2 = np.matmul(Xsampled, Xsampled.T)\n",
    "    XY2 = np.matmul(Xsampled, Ysampled)\n",
    "    e1 =  (1/ n2) * np.matmul(covarienceMat2, randomWeights2)\n",
    "    e2 =  (1 / n2) * XY2\n",
    "    randomWeights2 = randomWeights2 - (stepSize2 * 2 * (e1 - e2))\n",
    "    diff2 = randomWeights2 - weights\n",
    "    norm_weights2 = np.linalg.norm(diff2)\n",
    "    norms2.append(norm_weights2)\n",
    "    stepNo2.append(i)\n",
    "    i = i+1\n",
    "plt.xlabel('t')\n",
    "plt.ylabel('||W-W_t||_2')\n",
    "plt.plot(stepNo2, norms2)"
   ]
  },
  {
   "cell_type": "code",
   "execution_count": null,
   "id": "bc182fb5",
   "metadata": {},
   "outputs": [],
   "source": []
  }
 ],
 "metadata": {
  "kernelspec": {
   "display_name": "Python 3 (ipykernel)",
   "language": "python",
   "name": "python3"
  },
  "language_info": {
   "codemirror_mode": {
    "name": "ipython",
    "version": 3
   },
   "file_extension": ".py",
   "mimetype": "text/x-python",
   "name": "python",
   "nbconvert_exporter": "python",
   "pygments_lexer": "ipython3",
   "version": "3.9.12"
  }
 },
 "nbformat": 4,
 "nbformat_minor": 5
}
